{
 "cells": [
  {
   "cell_type": "markdown",
   "metadata": {},
   "source": [
    "# M2NIST with Fast.AI"
   ]
  },
  {
   "cell_type": "code",
   "execution_count": 30,
   "metadata": {},
   "outputs": [],
   "source": [
    "! export CUDA_LAUNCH_BLOCKING=1\n",
    "%reload_ext autoreload\n",
    "%autoreload 2\n",
    "%matplotlib inline"
   ]
  },
  {
   "cell_type": "markdown",
   "metadata": {},
   "source": [
    "## Goals and context\n",
    "\n",
    "We are going to use the [Multidigit MNIST(M2NIST)](https://www.kaggle.com/farhanhubble/multimnistm2nist) dataset. It's a segmentation dataset, containing picture of two MNIST number put together, and the appropriate labels. \n",
    "We will use Fast.ai as this notebook is done as a homework the 3rd lesson of the course.\n",
    "\n",
    "## Data exploration\n",
    "First we will explore the data a bit and try to present it in a convenient way:"
   ]
  },
  {
   "cell_type": "code",
   "execution_count": 31,
   "metadata": {},
   "outputs": [],
   "source": [
    "import numpy as np\n",
    "import torch\n",
    "import matplotlib.pyplot as plt\n",
    "from fastai.vision import *"
   ]
  },
  {
   "cell_type": "code",
   "execution_count": 32,
   "metadata": {},
   "outputs": [],
   "source": [
    "path = 'data/multimnist'\n",
    "combined = np.load(path + '/combined.npy')\n",
    "segmented = np.load(path + '/segmented.npy')"
   ]
  },
  {
   "cell_type": "code",
   "execution_count": 33,
   "metadata": {},
   "outputs": [
    {
     "data": {
      "image/png": "[encoded data removed]",
      "text/plain": [
       "<Figure size 432x288 with 1 Axes>"
      ]
     },
     "metadata": {},
     "output_type": "display_data"
    },
    {
     "data": {
      "image/png": "[encoded data removed]",
      "text/plain": [
       "<Figure size 432x288 with 1 Axes>"
      ]
     },
     "metadata": {},
     "output_type": "display_data"
    },
    {
     "data": {
      "image/png": "[encoded data removed]",
      "text/plain": [
       "<Figure size 432x288 with 1 Axes>"
      ]
     },
     "metadata": {},
     "output_type": "display_data"
    },
    {
     "data": {
      "image/png": "[encoded data removed]",
      "text/plain": [
       "<Figure size 432x288 with 1 Axes>"
      ]
     },
     "metadata": {},
     "output_type": "display_data"
    }
   ],
   "source": [
    "plt.imshow(combined[1])\n",
    "plt.title(\"combined\")\n",
    "plt.show()\n",
    "plt.imshow(segmented[1,:,:,7])\n",
    "plt.title(\"7th mask of segmented\")\n",
    "plt.show()\n",
    "plt.imshow(segmented[1,:,:,4])\n",
    "plt.title(\"4th mask of segmented\")\n",
    "plt.show()\n",
    "plt.imshow(segmented[1,:,:,10])\n",
    "plt.title(\"10th mask of segmented (background)\")\n",
    "plt.show()"
   ]
  },
  {
   "cell_type": "markdown",
   "metadata": {},
   "source": [
    "Would be a good idea to tranform those mask into a single array containing the number where it appears, and a 10 otherwise. It would be closer to a real image and so easier to work with in fastai."
   ]
  },
  {
   "cell_type": "code",
   "execution_count": 34,
   "metadata": {},
   "outputs": [
    {
     "name": "stdout",
     "output_type": "stream",
     "text": [
      "4999/4999\r"
     ]
    }
   ],
   "source": [
    "n_sample = len(segmented)\n",
    "height = len(segmented[0])\n",
    "width = len(segmented[0][0])\n",
    "\n",
    "segmented_flat = np.zeros((n_sample, height, width))\n",
    "for idx in range(n_sample):\n",
    "    print(f'{idx}/{n_sample - 1}', end=\"\\r\")\n",
    "    for j in range(height):\n",
    "        for i in range(width):\n",
    "            for n in range(11):\n",
    "                if segmented[idx][j][i][n]: \n",
    "                    segmented_flat[idx][j][i] = n\n",
    "np.save(path + '/segmented_flat.npy', segmented_flat)"
   ]
  },
  {
   "cell_type": "code",
   "execution_count": 35,
   "metadata": {},
   "outputs": [
    {
     "name": "stdout",
     "output_type": "stream",
     "text": [
      "mkdir: cannot create directory ‘data/multimnist/label’: File exists\n",
      "mkdir: cannot create directory ‘data/multimnist/input’: File exists\n",
      "Segmented: 4999/4999\n",
      "\n",
      "Input: 4999/4999\r"
     ]
    }
   ],
   "source": [
    "! mkdir data/multimnist/label\n",
    "! mkdir data/multimnist/input\n",
    "\n",
    "segmented_flat = np.load(path + '/segmented_flat.npy')\n",
    "for idx in range(n_sample):\n",
    "    print(f'Segmented: {idx}/{n_sample - 1}', end=\"\\r\")\n",
    "    # We have to be carefulwith the cmap and the range of the value since we went value to correspond to our codes\n",
    "    plt.imsave(path + f'/label/{idx}.png', segmented_flat[idx,:,:], cmap='gray', vmin=0, vmax=255) \n",
    "\n",
    "print(\"\\n\")\n",
    "for idx in range(n_sample):\n",
    "    print(f'Input: {idx}/{n_sample - 1}', end=\"\\r\")\n",
    "    plt.imsave(path + f'/input/{idx}.png', combined[idx,:,:], cmap='gray')\n",
    "del segmented_flat"
   ]
  },
  {
   "cell_type": "markdown",
   "metadata": {},
   "source": [
    "## Using the DataBlock API"
   ]
  },
  {
   "cell_type": "code",
   "execution_count": 36,
   "metadata": {},
   "outputs": [
    {
     "data": {
      "text/plain": [
       "(array([64, 84]), tensor([[[10, 10, 10,  ..., 10, 10, 10],\n",
       "          [10, 10, 10,  ..., 10, 10, 10],\n",
       "          [10, 10, 10,  ..., 10, 10, 10],\n",
       "          ...,\n",
       "          [10, 10, 10,  ..., 10, 10, 10],\n",
       "          [10, 10, 10,  ..., 10, 10, 10],\n",
       "          [10, 10, 10,  ..., 10, 10, 10]]]))"
      ]
     },
     "execution_count": 36,
     "metadata": {},
     "output_type": "execute_result"
    },
    {
     "data": {
      "image/png": "[encoded data removed]",
      "text/plain": [
       "<Figure size 360x360 with 1 Axes>"
      ]
     },
     "metadata": {},
     "output_type": "display_data"
    }
   ],
   "source": [
    "np.random.seed(42)\n",
    "SPLIT = 0.2\n",
    "BS = 2\n",
    "\n",
    "get_y_fn = lambda x: path + f'/label/{x.stem}{x.suffix}'\n",
    "codes = array(['0','1','2','3','4','5','6','7','8','9','Background'])\n",
    "\n",
    "fnames = get_image_files(path +'/input')\n",
    "mask = open_mask(get_y_fn(fnames[0]))\n",
    "mask.show(figsize=(5,5), alpha=1)\n",
    "src_size = np.array(mask.shape[1:])\n",
    "src_size,mask.data"
   ]
  },
  {
   "cell_type": "code",
   "execution_count": 37,
   "metadata": {
    "scrolled": true
   },
   "outputs": [
    {
     "data": {
      "text/plain": [
       "array(['0', '1', '2', '3', '4', '5', '6', '7', '8', '9', 'Background'], dtype='<U10')"
      ]
     },
     "execution_count": 37,
     "metadata": {},
     "output_type": "execute_result"
    },
    {
     "data": {
      "image/png": "[encoded data removed]",
      "text/plain": [
       "<Figure size 720x504 with 4 Axes>"
      ]
     },
     "metadata": {},
     "output_type": "display_data"
    }
   ],
   "source": [
    "data = (SegmentationItemList.from_folder(path + '/input')\n",
    "       .split_by_rand_pct(valid_pct=SPLIT)\n",
    "       .label_from_func(get_y_fn, classes=codes)\n",
    "       .transform(get_transforms(do_flip=False), tfm_y=True) # We do not want writing to be flipped, that makes no sense\n",
    "       .databunch(bs=BS)\n",
    "       .normalize(imagenet_stats))\n",
    "\n",
    "data.show_batch(4, figsize=(10,7))\n",
    "data.classes"
   ]
  },
  {
   "cell_type": "markdown",
   "metadata": {},
   "source": [
    " # Model"
   ]
  },
  {
   "cell_type": "code",
   "execution_count": 38,
   "metadata": {},
   "outputs": [],
   "source": [
    "name2id = {v:k for k,v in enumerate(codes)}\n",
    "void_code = name2id['Background']\n",
    "\n",
    "def acc_camvid(input, target): # No need to reinvent the wheel !\n",
    "    target = target.squeeze(1)\n",
    "    mask = target != void_code\n",
    "    return (input.argmax(dim=1)[mask]==target[mask]).float().mean()\n",
    "\n"
   ]
  },
  {
   "cell_type": "code",
   "execution_count": 39,
   "metadata": {},
   "outputs": [],
   "source": [
    "learn = unet_learner(data, models.resnet34, metrics=acc_camvid, wd=1e-2)"
   ]
  },
  {
   "cell_type": "code",
   "execution_count": 40,
   "metadata": {},
   "outputs": [
    {
     "data": {
      "text/html": [],
      "text/plain": [
       "<IPython.core.display.HTML object>"
      ]
     },
     "metadata": {},
     "output_type": "display_data"
    },
    {
     "name": "stdout",
     "output_type": "stream",
     "text": [
      "LR Finder is complete, type {learner_name}.recorder.plot() to see the graph.\n"
     ]
    },
    {
     "data": {
      "image/png": "[encoded data removed]",
      "text/plain": [
       "<Figure size 432x288 with 1 Axes>"
      ]
     },
     "metadata": {},
     "output_type": "display_data"
    }
   ],
   "source": [
    "lr_find(learn)\n",
    "learn.recorder.plot()"
   ]
  },
  {
   "cell_type": "code",
   "execution_count": 41,
   "metadata": {},
   "outputs": [
    {
     "data": {
      "text/html": [
       "Total time: 17:01 <p><table border=\"1\" class=\"dataframe\">\n",
       "  <thead>\n",
       "    <tr style=\"text-align: left;\">\n",
       "      <th>epoch</th>\n",
       "      <th>train_loss</th>\n",
       "      <th>valid_loss</th>\n",
       "      <th>acc_camvid</th>\n",
       "      <th>time</th>\n",
       "    </tr>\n",
       "  </thead>\n",
       "  <tbody>\n",
       "    <tr>\n",
       "      <td>0</td>\n",
       "      <td>0.116477</td>\n",
       "      <td>0.127004</td>\n",
       "      <td>0.398638</td>\n",
       "      <td>01:42</td>\n",
       "    </tr>\n",
       "    <tr>\n",
       "      <td>1</td>\n",
       "      <td>0.067645</td>\n",
       "      <td>0.053669</td>\n",
       "      <td>0.707312</td>\n",
       "      <td>01:41</td>\n",
       "    </tr>\n",
       "    <tr>\n",
       "      <td>2</td>\n",
       "      <td>0.052887</td>\n",
       "      <td>0.040231</td>\n",
       "      <td>0.775369</td>\n",
       "      <td>01:42</td>\n",
       "    </tr>\n",
       "    <tr>\n",
       "      <td>3</td>\n",
       "      <td>0.039520</td>\n",
       "      <td>0.031091</td>\n",
       "      <td>0.842259</td>\n",
       "      <td>01:42</td>\n",
       "    </tr>\n",
       "    <tr>\n",
       "      <td>4</td>\n",
       "      <td>0.038467</td>\n",
       "      <td>0.023763</td>\n",
       "      <td>0.880432</td>\n",
       "      <td>01:42</td>\n",
       "    </tr>\n",
       "    <tr>\n",
       "      <td>5</td>\n",
       "      <td>0.032851</td>\n",
       "      <td>0.019195</td>\n",
       "      <td>0.906188</td>\n",
       "      <td>01:42</td>\n",
       "    </tr>\n",
       "    <tr>\n",
       "      <td>6</td>\n",
       "      <td>0.035349</td>\n",
       "      <td>0.026682</td>\n",
       "      <td>0.857801</td>\n",
       "      <td>01:42</td>\n",
       "    </tr>\n",
       "    <tr>\n",
       "      <td>7</td>\n",
       "      <td>0.031160</td>\n",
       "      <td>0.019149</td>\n",
       "      <td>0.915122</td>\n",
       "      <td>01:42</td>\n",
       "    </tr>\n",
       "    <tr>\n",
       "      <td>8</td>\n",
       "      <td>0.033643</td>\n",
       "      <td>0.015880</td>\n",
       "      <td>0.924311</td>\n",
       "      <td>01:42</td>\n",
       "    </tr>\n",
       "    <tr>\n",
       "      <td>9</td>\n",
       "      <td>0.021873</td>\n",
       "      <td>0.014292</td>\n",
       "      <td>0.926266</td>\n",
       "      <td>01:42</td>\n",
       "    </tr>\n",
       "  </tbody>\n",
       "</table>"
      ],
      "text/plain": [
       "<IPython.core.display.HTML object>"
      ]
     },
     "metadata": {},
     "output_type": "display_data"
    },
    {
     "data": {
      "image/png": "[encoded data removed]",
      "text/plain": [
       "<Figure size 576x648 with 4 Axes>"
      ]
     },
     "metadata": {},
     "output_type": "display_data"
    }
   ],
   "source": [
    "lr = 1e-04\n",
    "learn.fit_one_cycle(10, slice(lr), pct_start=0.9)\n",
    "learn.save('M2NIST-stage-1')\n",
    "learn.show_results(rows=3, figsize=(8,9))"
   ]
  },
  {
   "cell_type": "markdown",
   "metadata": {},
   "source": [
    "## Fine-Tuning"
   ]
  },
  {
   "cell_type": "code",
   "execution_count": 43,
   "metadata": {},
   "outputs": [
    {
     "data": {
      "text/html": [],
      "text/plain": [
       "<IPython.core.display.HTML object>"
      ]
     },
     "metadata": {},
     "output_type": "display_data"
    },
    {
     "name": "stdout",
     "output_type": "stream",
     "text": [
      "LR Finder is complete, type {learner_name}.recorder.plot() to see the graph.\n"
     ]
    },
    {
     "data": {
      "image/png": "[encoded data removed]",
      "text/plain": [
       "<Figure size 432x288 with 1 Axes>"
      ]
     },
     "metadata": {},
     "output_type": "display_data"
    }
   ],
   "source": [
    "lr_find(learn)\n",
    "learn.recorder.plot()"
   ]
  },
  {
   "cell_type": "code",
   "execution_count": 44,
   "metadata": {},
   "outputs": [
    {
     "data": {
      "text/html": [
       "Total time: 04:45 <p><table border=\"1\" class=\"dataframe\">\n",
       "  <thead>\n",
       "    <tr style=\"text-align: left;\">\n",
       "      <th>epoch</th>\n",
       "      <th>train_loss</th>\n",
       "      <th>valid_loss</th>\n",
       "      <th>acc_camvid</th>\n",
       "      <th>time</th>\n",
       "    </tr>\n",
       "  </thead>\n",
       "  <tbody>\n",
       "    <tr>\n",
       "      <td>0</td>\n",
       "      <td>0.023132</td>\n",
       "      <td>0.014258</td>\n",
       "      <td>0.928342</td>\n",
       "      <td>02:22</td>\n",
       "    </tr>\n",
       "    <tr>\n",
       "      <td>1</td>\n",
       "      <td>0.021237</td>\n",
       "      <td>0.013991</td>\n",
       "      <td>0.927598</td>\n",
       "      <td>02:22</td>\n",
       "    </tr>\n",
       "  </tbody>\n",
       "</table>"
      ],
      "text/plain": [
       "<IPython.core.display.HTML object>"
      ]
     },
     "metadata": {},
     "output_type": "display_data"
    }
   ],
   "source": [
    "learn.load('M2NIST-stage-1')\n",
    "learn.unfreeze()\n",
    "learn.fit_one_cycle(2, slice(1e-06,  4e-06), pct_start=0.8)"
   ]
  },
  {
   "cell_type": "code",
   "execution_count": 45,
   "metadata": {},
   "outputs": [],
   "source": [
    "learn.save('M2NIST-stage-2')"
   ]
  },
  {
   "cell_type": "code",
   "execution_count": 47,
   "metadata": {},
   "outputs": [
    {
     "data": {
      "image/png": "[encoded data removed]",
      "text/plain": [
       "<Figure size 360x360 with 1 Axes>"
      ]
     },
     "metadata": {},
     "output_type": "display_data"
    },
    {
     "data": {
      "image/png": "[encoded data removed]",
      "text/plain": [
       "<Figure size 360x360 with 1 Axes>"
      ]
     },
     "metadata": {},
     "output_type": "display_data"
    }
   ],
   "source": [
    "img = open_image(fnames[42])\n",
    "img.show(figsize=(5,5), alpha=1)\n",
    "predicted_mask = learn.predict(img)[0]\n",
    "predicted_mask.show(figsize=(5,5), alpha=1)"
   ]
  }
 ],
 "metadata": {
  "kernelspec": {
   "display_name": "Python 3",
   "language": "python",
   "name": "python3"
  },
  "language_info": {
   "codemirror_mode": {
    "name": "ipython",
    "version": 3
   },
   "file_extension": ".py",
   "mimetype": "text/x-python",
   "name": "python",
   "nbconvert_exporter": "python",
   "pygments_lexer": "ipython3",
   "version": "3.6.3"
  }
 },
 "nbformat": 4,
 "nbformat_minor": 2
}
